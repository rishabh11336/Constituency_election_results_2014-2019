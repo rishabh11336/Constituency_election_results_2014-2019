import pandas as pd


df14 = pd.read_csv('constituency_wise_results_2014.csv')
df14


df19 = pd.read_csv('constituency_wise_results_2019.csv')
df19


df14.info()


df19.info()





df14.state.unique(), len(df14.state.unique())


df19.state.unique(), len(df19.state.unique())


df14[df14['state']=="Andhra Pradesh"]


df19[(df19["state"]=="Andhra Pradesh") | (df19["state"]=="Telangana")]


df19[df19["state"]=="Telangana"]





for pc in df19[df19["state"] == "Telangana"].pc_name.unique():
    df14.loc[df14["pc_name"] == pc, "state"] = "Telangana"


df14[df14["state"]=="Telangana"]











# Total vote per pc_name
Total_vote_pc = dict()
# filtering all parliament constituency
for pc in df14.pc_name.unique():
    pcdf = df14[df14["pc_name"]==pc]
    # filtering to check if parliament constituency is in two states 
    for state in pcdf.state.unique():
        total = 0
        s_pcdf = pcdf[pcdf["state"]==state]
        for i in range(len(s_pcdf)):
            total += s_pcdf.iloc[i,10]
        Total_vote_pc[(pc, state)] = total
Total_vote_pc


# Initialize the "Total_vote_pc" column with zeros
df14["Total_vote_pc"] = 0

# Iterate over the dictionary items and assign values to the DataFrame
for key, value in Total_vote_pc.items():
    pc_name, state = key
    df14.loc[(df14["state"] == state) & (df14["pc_name"] == pc_name), "Total_vote_pc"] = value

df14


df14["Voter Turnout Ratio"] = df14["Total_vote_pc"]/df14["total_electors"]
df14


Top_5_2014 = sorted(df14["Voter Turnout Ratio"].unique())[-5:]
Top_5_2014


Bottom_5_2014 = sorted(df14["Voter Turnout Ratio"].unique())[:5]
Bottom_5_2014








# Total vote per pc_name
Total_vote_pc = dict()
# filtering all parliament constituency
for pc in df19.pc_name.unique():
    pcdf = df19[df19["pc_name"]==pc]
    # filtering to check if parliament constituency is in two states 
    for state in pcdf.state.unique():
        total = 0
        s_pcdf = pcdf[pcdf["state"]==state]
        for i in range(len(s_pcdf)):
            total += s_pcdf.iloc[i,10]
        Total_vote_pc[(pc, state)] = total
Total_vote_pc


# Initialize the "Total_vote_pc" column with zeros
df19["Total_vote_pc"] = 0

# Iterate over the dictionary items and assign values to the DataFrame
for key, value in Total_vote_pc.items():
    pc_name, state = key
    df19.loc[(df19["state"] == state) & (df19["pc_name"] == pc_name), "Total_vote_pc"] = value

df19


df19["Voter Turnout Ratio"] = df19["Total_vote_pc"]/df19["total_electors"]
df19


Top_5_2019 = sorted(df19["Voter Turnout Ratio"].unique())[-5:]
Top_5_2019


Bottom_5_2019 = sorted(df19["Voter Turnout Ratio"].unique())[:5]
Bottom_5_2019








print("Top 5 constituencies of 2014 in terms of voter turnout ratio are:")
for idx, ratio in enumerate(Top_5_2014[::-1]):
    print(idx+1, *df14[df14["Voter Turnout Ratio"] == ratio].pc_name.unique(), f"{ratio:.2f}")
print()
print("Top 5 constituencies of 2019 in terms of voter turnout ratio are:")
for idx, ratio in enumerate(Top_5_2019[::-1]):
    print(idx+1, *df19[df19["Voter Turnout Ratio"] == ratio].pc_name.unique(),f"{ratio:.2f}")


print("Bottom 5 constituencies of 2014 in terms of voter turnout ratio are:")
for idx, ratio in enumerate(Bottom_5_2014):
    print(idx+1, *df14[df14["Voter Turnout Ratio"] == ratio].pc_name.unique(), f"{ratio:.2f}")
print()
print("Bottom 5 constituencies of 2019 in terms of voter turnout ratio are:")
for idx, ratio in enumerate(Bottom_5_2019):
    print(idx+1, *df19[df19["Voter Turnout Ratio"] == ratio].pc_name.unique(), f"{ratio:.2f}")





# Calculating Voter Turnout Ratio for state
state_Voter_Turnout_Ratio_2014 = dict()
for state in df14.state.unique():
    total_ratio = 0
    count = 0
    for pc in df14[df14["state"]==state].pc_name.unique():
        total_ratio += df14[(df14["state"]==state) & (df14["pc_name"]==pc)]["Voter Turnout Ratio"].unique()[0]
        count += 1
    state_Voter_Turnout_Ratio_2014[state] = total_ratio/count
state_Voter_Turnout_Ratio_2014


df14["state Voter Turnout Ratio"] = 0.0
for key, value in state_Voter_Turnout_Ratio_2014.items():
    df14.loc[df14["state"]==key, "state Voter Turnout Ratio"] = value
df14


# Calculating Voter Turnout Ratio for state
state_Voter_Turnout_Ratio_2019 = dict()
for state in df19.state.unique():
    total_ratio = 0
    count = 0
    for pc in df19[df19["state"]==state].pc_name.unique():
        total_ratio += df19[(df19["state"]==state) & (df19["pc_name"]==pc)]["Voter Turnout Ratio"].unique()[0]
        count += 1
    state_Voter_Turnout_Ratio_2019[state] = total_ratio/count
state_Voter_Turnout_Ratio_2019


df19["state Voter Turnout Ratio"] = 0.0
for key, value in state_Voter_Turnout_Ratio_2019.items():
    df19.loc[df19["state"]==key, "state Voter Turnout Ratio"] = value
df19


Top_5_state_2014 = sorted(df14["state Voter Turnout Ratio"].unique())[-5:]
Top_5_state_2014


Bottom_5_state_2014 = sorted(df14["state Voter Turnout Ratio"].unique())[:5]
Bottom_5_state_2014


Top_5_state_2019 = sorted(df19["state Voter Turnout Ratio"].unique())[-5:]
Top_5_state_2019


Bottom_5_state_2019 = sorted(df19["state Voter Turnout Ratio"].unique())[:5]
Bottom_5_state_2019





print("Top 5 state of 2014 in terms of voter turnout ratio are:")
for idx, ratio in enumerate(Top_5_state_2014[::-1]):
    print(idx+1, *df14[df14["state Voter Turnout Ratio"] == ratio].state.unique(), f"{ratio:.2f}")
print()
print("Top 5 state of 2019 in terms of voter turnout ratio are:")
for idx, ratio in enumerate(Top_5_state_2019[::-1]):
    print(idx+1, *df19[df19["state Voter Turnout Ratio"] == ratio].state.unique(),f"{ratio:.2f}")


print("Bottom 5 state of 2014 in terms of voter turnout ratio are:")
for idx, ratio in enumerate(Bottom_5_state_2014):
    print(idx+1, *df14[df14["state Voter Turnout Ratio"] == ratio].state.unique(), f"{ratio:.2f}")
print()
print("Bottom 5 state of 2019 in terms of voter turnout ratio are:")
for idx, ratio in enumerate(Bottom_5_state_2019):
    print(idx+1, *df19[df19["state Voter Turnout Ratio"] == ratio].state.unique(), f"{ratio:.2f}")





df14["winner_pc"] = "Not"

for state in df14.state.unique():
    state_data = df14[df14["state"] == state]
    
    for pc in state_data.pc_name.unique():
        pc_data = state_data[state_data["pc_name"] == pc]
        max_vote = pc_data["total_votes"].max()
        win_party = pc_data[pc_data["total_votes"] == max_vote]["party"].values[0]
        
        df14.loc[(df14["state"] == state) & (df14["pc_name"] == pc) & (df14["party"] == win_party), "winner_pc"] = "win"

df14


df19["winner_pc"] = "Not"

for state in df19.state.unique():
    state_data = df19[df19["state"] == state]
    
    for pc in state_data.pc_name.unique():
        pc_data = state_data[state_data["pc_name"] == pc]
        max_vote = pc_data["total_votes"].max()
        win_party = pc_data[pc_data["total_votes"] == max_vote]["party"].values[0]
        
        df19.loc[(df19["state"] == state) & (df19["pc_name"] == pc) & (df19["party"] == win_party), "winner_pc"] = "win"

df19


df14[(df14["party"]=="NOTA") & (df14["winner_pc"]=="win")]


df19[(df19["party"]=="NOTA") & (df19["winner_pc"]=="win")]


win19 = df19[df19["winner_pc"]=="win"]
win19


win14 = df14[df14["winner_pc"]=="win"]
win14


len(win19)


new14 = win14.drop(["candidate", "sex", "age", "category", "party_symbol", "general_votes", "postal_votes"], axis=1)
new14


new19 = win19.drop(["candidate", "sex", "age", "category", "party_symbol", "general_votes", "postal_votes"], axis=1)
new19


merge19 = pd.merge(new19, new14, on=["state", "pc_name", "party"], how='inner', suffixes=('_2019', '_2014')).drop_duplicates(subset=["state", "pc_name", "party"])
merge19


merge19["vote_percentage"] = merge19["total_votes_2019"]/merge19["Total_vote_pc_2019"]
merge19


sorted_merge19 = merge19.sort_values(by="vote_percentage", ascending=False)
sorted_merge19





sorted_merge19['rank_2019'] = sorted_merge19['vote_percentage'].rank(method='dense', ascending=False)
sorted_merge19





new_party19 = pd.merge(new19, new14, on=["state", "pc_name"], suffixes=('_2019', '_2014'))
new_party19


new_party = new_party19[new_party19["party_2019"]!= new_party19["party_2014"]].drop_duplicates(subset=["state", "pc_name", "party_2019"])
new_party


new_party["winner_vote_difference"] = new_party["total_votes_2019"] - new_party["total_votes_2014"]
new_party





new_party.sort_values(by="winner_vote_difference", ascending=False).head(10)


new_party["winner_vote_difference"] = abs(new_party["total_votes_2019"] - new_party["total_votes_2014"])
new_party





new_party.sort_values(by="winner_vote_difference", ascending=False).head(10)





df14


df19


for state in df19.state.unique():
    state_data = df19[df19["state"] == state]
    
    for pc in state_data.pc_name.unique():
        pc_data = state_data[state_data["pc_name"] == pc]
        
        # Check if there are at least two parties in the current pc_data
        if len(pc_data) > 1:
            # Get the second largest total votes
            second_max_vote = pc_data["total_votes"].nlargest(2).iloc[-1]
            # Get the party with the second largest votes
            win_party = pc_data[pc_data["total_votes"] == second_max_vote]["party"].values[0]
            df19.loc[(df19["state"] == state) & (df19["pc_name"] == pc) & (df19["party"] == win_party), "winner_pc"] = "1st runner"
        else:
            # If there's only one party, handle it according to your specific needs
            pass



df19


df19[df19["winner_pc"]=="win"].drop_duplicates(subset=["state", "pc_name"])


df19[df19["winner_pc"] == "1st runner"].drop_duplicates(subset=["state", "pc_name"])


winner = df19[df19["winner_pc"]=="win"].drop_duplicates(subset=["state", "pc_name", "party"])
runner = df19[df19["winner_pc"] == "1st runner"].drop_duplicates(subset=["state", "pc_name", "party"])


winner["margin difference"] = 0  # Initialize the margin difference column

for state in winner.state.unique():
    state_data = winner[winner["state"] == state]
    
    for pc in state_data.pc_name.unique():
        winner_mask = (winner["state"] == state) & (winner["pc_name"] == pc)
        runner_mask = (runner["state"] == state) & (runner["pc_name"] == pc)
        
        winner_votes = winner.loc[winner_mask, "total_votes"].values
        runner_votes = runner.loc[runner_mask, "total_votes"].values
        
        if len(winner_votes) > 0 and len(runner_votes) > 0:
            winner.loc[winner_mask, "margin difference"] = winner_votes[0] - runner_votes[0]

winner





winner.sort_values(by="margin difference", ascending=False).head(5)








for state in df14.state.unique():
    state_data = df14[df14["state"] == state]
    
    for pc in state_data.pc_name.unique():
        pc_data = state_data[state_data["pc_name"] == pc]
        
        # Check if there are at least two parties in the current pc_data
        if len(pc_data) > 1:
            # Get the second largest total votes
            second_max_vote = pc_data["total_votes"].nlargest(2).iloc[-1]
            # Get the party with the second largest votes
            win_party = pc_data[pc_data["total_votes"] == second_max_vote]["party"].values[0]
            df14.loc[(df14["state"] == state) & (df14["pc_name"] == pc) & (df14["party"] == win_party), "winner_pc"] = "1st runner"
        else:
            # If there's only one party, handle it according to your specific needs
            pass


df14[df14["winner_pc"]=="win"].drop_duplicates(subset=["state", "pc_name"])


df14[df14["winner_pc"] == "1st runner"].drop_duplicates(subset=["state", "pc_name"])


winner = df14[df14["winner_pc"]=="win"].drop_duplicates(subset=["state", "pc_name", "party"])
runner = df14[df14["winner_pc"] == "1st runner"].drop_duplicates(subset=["state", "pc_name", "party"])


winner["margin difference"] = 0  # Initialize the margin difference column

for state in winner.state.unique():
    state_data = winner[winner["state"] == state]
    
    for pc in state_data.pc_name.unique():
        winner_mask = (winner["state"] == state) & (winner["pc_name"] == pc)
        runner_mask = (runner["state"] == state) & (runner["pc_name"] == pc)
        
        winner_votes = winner.loc[winner_mask, "total_votes"].values
        runner_votes = runner.loc[runner_mask, "total_votes"].values
        
        if len(winner_votes) > 0 and len(runner_votes) > 0:
            winner.loc[winner_mask, "margin difference"] = winner_votes[0] - runner_votes[0]

winner





winner.sort_values(by="margin difference", ascending=False).head(5)





parties = {"party" : [],
          "total_votes" : [],
          "percent_of_vote" : []}
for party in df14.party.unique():
    parties["party"] += [party]
    parties["total_votes"] += [df14[df14["party"]==party].total_votes.sum()]
    parties["percent_of_vote"] += [round((df14[df14["party"]==party].total_votes.sum()/df14.total_votes.sum())*100, 2)]
percent_split_national_2014 = pd.DataFrame(parties)
percent_split_national_2014





percent_split_national_2014.sort_values(by="percent_of_vote", ascending=False)


parties = {"party" : [],
          "total_votes" : [],
          "percent_of_vote" : []}
for party in df19.party.unique():
    parties["party"] += [party]
    parties["total_votes"] += [df19[df19["party"]==party].total_votes.sum()]
    parties["percent_of_vote"] += [round((df19[df19["party"]==party].total_votes.sum()/df19.total_votes.sum())*100, 2)]
percent_split_national_2019 = pd.DataFrame(parties)
percent_split_national_2019





percent_split_national_2019.sort_values(by="percent_of_vote", ascending=False)





pd.merge(percent_split_national_2019, percent_split_national_2014, how="inner", on=["party"], suffixes=('_2019', '_2014')).sort_values(by="percent_of_vote_2019", ascending=False)





len(df14.party.unique())


len(df19.party.unique())


len(set(df19.party.unique()).intersection(set(df14.party.unique())))





parties_statewise19 = {state : {"party" : [],
          "total_votes" : [],
          "percent_of_vote" : []} for state in df19.state.unique()}

for state in df19.state.unique():
    for party in df19[df19["state"]==state].party.unique():
        parties_statewise19[state]["party"] += [party]
        parties_statewise19[state]["total_votes"] += [df19[(df19["party"]==party) & (df19["state"]==state)].total_votes.sum()]
        parties_statewise19[state]["percent_of_vote"] += [round((df19[(df19["party"]==party) & (df19["state"]==state)].total_votes.sum()/df19[df19["state"]==state].total_votes.sum())*100, 2)]

parties_statewise19


df19.state.unique()


parties_statewise14 = {state : {"party" : [],
          "total_votes" : [],
          "percent_of_vote" : []} for state in df14.state.unique()}

for state in df14.state.unique():
    for party in df14[df14["state"]==state].party.unique():
        parties_statewise14[state]["party"] += [party]
        parties_statewise14[state]["total_votes"] += [df14[(df14["party"]==party) & (df14["state"]==state)].total_votes.sum()]
        parties_statewise14[state]["percent_of_vote"] += [round((df14[(df14["party"]==party) & (df14["state"]==state)].total_votes.sum()/df14[df14["state"]==state].total_votes.sum())*100, 2)]

parties_statewise14














Andhra_Pradesh14 = pd.DataFrame(parties_statewise14["Andhra Pradesh"]).sort_values(by="percent_of_vote", ascending=False)
Andhra_Pradesh19 = pd.DataFrame(parties_statewise19["Andhra Pradesh"]).sort_values(by="percent_of_vote", ascending=False)
pd.merge(Andhra_Pradesh19, Andhra_Pradesh14, how="left", on=["party"], suffixes=('_2019', '_2014')).sort_values(by="percent_of_vote_2019", ascending=False)





Arunachal_Pradesh14 = pd.DataFrame(parties_statewise14["Arunachal Pradesh"]).sort_values(by="percent_of_vote", ascending=False)
Arunachal_Pradesh19 = pd.DataFrame(parties_statewise19["Arunachal Pradesh"]).sort_values(by="percent_of_vote", ascending=False)
pd.merge(Arunachal_Pradesh19, Arunachal_Pradesh14, how="left", on=["party"], suffixes=('_2019', '_2014')).sort_values(by="percent_of_vote_2019", ascending=False)





Assam14 = pd.DataFrame(parties_statewise14["Assam"]).sort_values(by="percent_of_vote", ascending=False)
Assam19 = pd.DataFrame(parties_statewise19["Assam"]).sort_values(by="percent_of_vote", ascending=False)
pd.merge(Assam19, Assam14, how="left", on=["party"], suffixes=('_2019', '_2014')).sort_values(by="percent_of_vote_2019", ascending=False)





Bihar14 = pd.DataFrame(parties_statewise14["Bihar"]).sort_values(by="percent_of_vote", ascending=False)
Bihar19 = pd.DataFrame(parties_statewise19["Bihar"]).sort_values(by="percent_of_vote", ascending=False)
pd.merge(Bihar19, Bihar14, how="left", on=["party"], suffixes=('_2019', '_2014')).sort_values(by="percent_of_vote_2019", ascending=False)





Goa14 = pd.DataFrame(parties_statewise14["Goa"]).sort_values(by="percent_of_vote", ascending=False)
Goa19 = pd.DataFrame(parties_statewise19["Goa"]).sort_values(by="percent_of_vote", ascending=False)
pd.merge(Goa19, Goa14, how="left", on=["party"], suffixes=('_2019', '_2014')).sort_values(by="percent_of_vote_2019", ascending=False)





Gujarat14 = pd.DataFrame(parties_statewise14["Gujarat"]).sort_values(by="percent_of_vote", ascending=False)
Gujarat19 = pd.DataFrame(parties_statewise19["Gujarat"]).sort_values(by="percent_of_vote", ascending=False)
pd.merge(Gujarat19, Gujarat14, how="left", on=["party"], suffixes=('_2019', '_2014')).sort_values(by="percent_of_vote_2019", ascending=False)





Haryana14 = pd.DataFrame(parties_statewise14["Haryana"]).sort_values(by="percent_of_vote", ascending=False)
Haryana19 = pd.DataFrame(parties_statewise19["Haryana"]).sort_values(by="percent_of_vote", ascending=False)
pd.merge(Haryana19, Haryana14, how="left", on=["party"], suffixes=('_2019', '_2014')).sort_values(by="percent_of_vote_2019", ascending=False)





Himachal_Pradesh14 = pd.DataFrame(parties_statewise14["Himachal Pradesh"]).sort_values(by="percent_of_vote", ascending=False)
Himachal_Pradesh19 = pd.DataFrame(parties_statewise19["Himachal Pradesh"]).sort_values(by="percent_of_vote", ascending=False)
pd.merge(Himachal_Pradesh19, Himachal_Pradesh14, how="left", on=["party"], suffixes=('_2019', '_2014')).sort_values(by="percent_of_vote_2019", ascending=False)





Jammu_Kashmir14 = pd.DataFrame(parties_statewise14["Jammu & Kashmir"]).sort_values(by="percent_of_vote", ascending=False)
Jammu_Kashmir19 = pd.DataFrame(parties_statewise19["Jammu & Kashmir"]).sort_values(by="percent_of_vote", ascending=False)
pd.merge(Jammu_Kashmir19, Jammu_Kashmir14, how="left", on=["party"], suffixes=('_2019', '_2014')).sort_values(by="percent_of_vote_2019", ascending=False)





Karnataka14 = pd.DataFrame(parties_statewise14["Karnataka"]).sort_values(by="percent_of_vote", ascending=False)
Karnataka19 = pd.DataFrame(parties_statewise19["Karnataka"]).sort_values(by="percent_of_vote", ascending=False)
pd.merge(Karnataka19, Karnataka14, how="left", on=["party"], suffixes=('_2019', '_2014')).sort_values(by="percent_of_vote_2019", ascending=False)





Kerala14 = pd.DataFrame(parties_statewise14["Kerala"]).sort_values(by="percent_of_vote", ascending=False)
Kerala19 = pd.DataFrame(parties_statewise19["Kerala"]).sort_values(by="percent_of_vote", ascending=False)
pd.merge(Kerala19, Kerala14, how="left", on=["party"], suffixes=('_2019', '_2014')).sort_values(by="percent_of_vote_2019", ascending=False)





Madhya_Pradesh14 = pd.DataFrame(parties_statewise14["Madhya Pradesh"]).sort_values(by="percent_of_vote", ascending=False)
Madhya_Pradesh19 = pd.DataFrame(parties_statewise19["Madhya Pradesh"]).sort_values(by="percent_of_vote", ascending=False)
pd.merge(Madhya_Pradesh19, Madhya_Pradesh14, how="left", on=["party"], suffixes=('_2019', '_2014')).sort_values(by="percent_of_vote_2019", ascending=False)





Maharashtra14 = pd.DataFrame(parties_statewise14["Maharashtra"]).sort_values(by="percent_of_vote", ascending=False)
Maharashtra19 = pd.DataFrame(parties_statewise19["Maharashtra"]).sort_values(by="percent_of_vote", ascending=False)
pd.merge(Maharashtra19, Maharashtra14, how="left", on=["party"], suffixes=('_2019', '_2014')).sort_values(by="percent_of_vote_2019", ascending=False)





Manipur14 = pd.DataFrame(parties_statewise14["Manipur"]).sort_values(by="percent_of_vote", ascending=False)
Manipur19 = pd.DataFrame(parties_statewise19["Manipur"]).sort_values(by="percent_of_vote", ascending=False)
pd.merge(Manipur19, Manipur14, how="left", on=["party"], suffixes=('_2019', '_2014')).sort_values(by="percent_of_vote_2019", ascending=False)





Meghalaya14 = pd.DataFrame(parties_statewise14["Meghalaya"]).sort_values(by="percent_of_vote", ascending=False)
Meghalaya19 = pd.DataFrame(parties_statewise19["Meghalaya"]).sort_values(by="percent_of_vote", ascending=False)
pd.merge(Meghalaya19, Meghalaya14, how="left", on=["party"], suffixes=('_2019', '_2014')).sort_values(by="percent_of_vote_2019", ascending=False)





Mizoram14 = pd.DataFrame(parties_statewise14["Mizoram"]).sort_values(by="percent_of_vote", ascending=False)
Mizoram19 = pd.DataFrame(parties_statewise19["Mizoram"]).sort_values(by="percent_of_vote", ascending=False)
pd.merge(Mizoram19, Mizoram19, how="left", on=["party"], suffixes=('_2019', '_2014')).sort_values(by="percent_of_vote_2019", ascending=False)





Nagaland14 = pd.DataFrame(parties_statewise14["Nagaland"]).sort_values(by="percent_of_vote", ascending=False)
Nagaland19 = pd.DataFrame(parties_statewise19["Nagaland"]).sort_values(by="percent_of_vote", ascending=False)
pd.merge(Nagaland19, Nagaland14, how="left", on=["party"], suffixes=('_2019', '_2014')).sort_values(by="percent_of_vote_2019", ascending=False)





# Odisha14 = pd.DataFrame(parties_statewise14["Odisha"]).sort_values(by="percent_of_vote", ascending=False)
Odisha19 = pd.DataFrame(parties_statewise19["Odisha"]).sort_values(by="percent_of_vote", ascending=False)
# pd.merge(Odisha19, Odisha14, how="left", on=["party"], suffixes=('_2019', '_2014')).sort_values(by="percent_of_vote_2019", ascending=False)
Odisha19





Punjab14 = pd.DataFrame(parties_statewise14["Punjab"]).sort_values(by="percent_of_vote", ascending=False)
Punjab19 = pd.DataFrame(parties_statewise19["Punjab"]).sort_values(by="percent_of_vote", ascending=False)
pd.merge(Punjab19, Punjab14, how="left", on=["party"], suffixes=('_2019', '_2014')).sort_values(by="percent_of_vote_2019", ascending=False)





Rajasthan14 = pd.DataFrame(parties_statewise14["Rajasthan"]).sort_values(by="percent_of_vote", ascending=False)
Rajasthan19 = pd.DataFrame(parties_statewise19["Rajasthan"]).sort_values(by="percent_of_vote", ascending=False)
pd.merge(Rajasthan19, Rajasthan14, how="left", on=["party"], suffixes=('_2019', '_2014')).sort_values(by="percent_of_vote_2019", ascending=False)





Sikkim14 = pd.DataFrame(parties_statewise14["Sikkim"]).sort_values(by="percent_of_vote", ascending=False)
Sikkim19 = pd.DataFrame(parties_statewise19["Sikkim"]).sort_values(by="percent_of_vote", ascending=False)
pd.merge(Sikkim19, Sikkim14, how="left", on=["party"], suffixes=('_2019', '_2014')).sort_values(by="percent_of_vote_2019", ascending=False)





Tamil_Nadu14 = pd.DataFrame(parties_statewise14["Tamil Nadu"]).sort_values(by="percent_of_vote", ascending=False)
Tamil_Nadu19 = pd.DataFrame(parties_statewise19["Tamil Nadu"]).sort_values(by="percent_of_vote", ascending=False)
pd.merge(Tamil_Nadu19, Tamil_Nadu14, how="left", on=["party"], suffixes=('_2019', '_2014')).sort_values(by="percent_of_vote_2019", ascending=False)





Tripura14 = pd.DataFrame(parties_statewise14["Tripura"]).sort_values(by="percent_of_vote", ascending=False)
Tripura19 = pd.DataFrame(parties_statewise19["Tripura"]).sort_values(by="percent_of_vote", ascending=False)
pd.merge(Tripura19, Tripura19, how="left", on=["party"], suffixes=('_2019', '_2014')).sort_values(by="percent_of_vote_2019", ascending=False)





Uttar_Pradesh14 = pd.DataFrame(parties_statewise14["Punjab"]).sort_values(by="percent_of_vote", ascending=False)
Uttar_Pradesh19 = pd.DataFrame(parties_statewise19["Punjab"]).sort_values(by="percent_of_vote", ascending=False)
pd.merge(Uttar_Pradesh19, Uttar_Pradesh14, how="left", on=["party"], suffixes=('_2019', '_2014')).sort_values(by="percent_of_vote_2019", ascending=False)





West_Bengal14 = pd.DataFrame(parties_statewise14["West Bengal"]).sort_values(by="percent_of_vote", ascending=False)
West_Bengal19 = pd.DataFrame(parties_statewise19["West Bengal"]).sort_values(by="percent_of_vote", ascending=False)
pd.merge(West_Bengal19, West_Bengal19, how="left", on=["party"], suffixes=('_2019', '_2014')).sort_values(by="percent_of_vote_2019", ascending=False)





# Chhattisgarh14 = pd.DataFrame(parties_statewise14["Chhattisgarh"]).sort_values(by="percent_of_vote", ascending=False)
Chhattisgarh19 = pd.DataFrame(parties_statewise19["Chhattisgarh"]).sort_values(by="percent_of_vote", ascending=False)
# pd.merge(Chhattisgarh19, Chhattisgarh14, how="left", on=["party"], suffixes=('_2019', '_2014')).sort_values(by="percent_of_vote_2019", ascending=False)
Chhattisgarh19





Jharkhand14 = pd.DataFrame(parties_statewise14["Jharkhand"]).sort_values(by="percent_of_vote", ascending=False)
Jharkhand19 = pd.DataFrame(parties_statewise19["Jharkhand"]).sort_values(by="percent_of_vote", ascending=False)
pd.merge(Jharkhand19, Jharkhand14, how="left", on=["party"], suffixes=('_2019', '_2014')).sort_values(by="percent_of_vote_2019", ascending=False)





Uttarakhand14 = pd.DataFrame(parties_statewise14["Uttarakhand"]).sort_values(by="percent_of_vote", ascending=False)
Uttarakhand19 = pd.DataFrame(parties_statewise19["Uttarakhand"]).sort_values(by="percent_of_vote", ascending=False)
pd.merge(Uttarakhand19, Uttarakhand14, how="left", on=["party"], suffixes=('_2019', '_2014')).sort_values(by="percent_of_vote_2019", ascending=False)





Telangana14 = pd.DataFrame(parties_statewise14["Telangana"]).sort_values(by="percent_of_vote", ascending=False)
Telangana19 = pd.DataFrame(parties_statewise19["Telangana"]).sort_values(by="percent_of_vote", ascending=False)
pd.merge(Telangana19, Telangana14, how="left", on=["party"], suffixes=('_2019', '_2014')).sort_values(by="percent_of_vote_2019", ascending=False)





Andaman_Nicobar_Islands14 = pd.DataFrame(parties_statewise14["Andaman & Nicobar Islands"]).sort_values(by="percent_of_vote", ascending=False)
Andaman_Nicobar_Islands19 = pd.DataFrame(parties_statewise19["Andaman & Nicobar Islands"]).sort_values(by="percent_of_vote", ascending=False)
pd.merge(Andaman_Nicobar_Islands19, Andaman_Nicobar_Islands14, how="left", on=["party"], suffixes=('_2019', '_2014')).sort_values(by="percent_of_vote_2019", ascending=False)





Chandigarh14 = pd.DataFrame(parties_statewise14["Chandigarh"]).sort_values(by="percent_of_vote", ascending=False)
Chandigarh19 = pd.DataFrame(parties_statewise19["Chandigarh"]).sort_values(by="percent_of_vote", ascending=False)
pd.merge(Chandigarh19, Chandigarh14, how="left", on=["party"], suffixes=('_2019', '_2014')).sort_values(by="percent_of_vote_2019", ascending=False)





Dadra_Nagar_Haveli14 = pd.DataFrame(parties_statewise14["Dadra & Nagar Haveli"]).sort_values(by="percent_of_vote", ascending=False)
Dadra_Nagar_Haveli19 = pd.DataFrame(parties_statewise19["Dadra & Nagar Haveli"]).sort_values(by="percent_of_vote", ascending=False)
pd.merge(Dadra_Nagar_Haveli19, Dadra_Nagar_Haveli14, how="left", on=["party"], suffixes=('_2019', '_2014')).sort_values(by="percent_of_vote_2019", ascending=False)





Daman_Diu14 = pd.DataFrame(parties_statewise14["Daman & Diu"]).sort_values(by="percent_of_vote", ascending=False)
Daman_Diu19 = pd.DataFrame(parties_statewise19["Daman & Diu"]).sort_values(by="percent_of_vote", ascending=False)
pd.merge(Daman_Diu19, Daman_Diu14, how="left", on=["party"], suffixes=('_2019', '_2014')).sort_values(by="percent_of_vote_2019", ascending=False)





NCT_OF_Delhi14 = pd.DataFrame(parties_statewise14["NCT OF Delhi"]).sort_values(by="percent_of_vote", ascending=False)
NCT_OF_Delhi19 = pd.DataFrame(parties_statewise19["NCT OF Delhi"]).sort_values(by="percent_of_vote", ascending=False)
pd.merge(NCT_OF_Delhi19, NCT_OF_Delhi14, how="left", on=["party"], suffixes=('_2019', '_2014')).sort_values(by="percent_of_vote_2019", ascending=False)





Lakshadweep14 = pd.DataFrame(parties_statewise14["Lakshadweep"]).sort_values(by="percent_of_vote", ascending=False)
Lakshadweep19 = pd.DataFrame(parties_statewise19["Lakshadweep"]).sort_values(by="percent_of_vote", ascending=False)
pd.merge(Lakshadweep19, Lakshadweep14, how="left", on=["party"], suffixes=('_2019', '_2014')).sort_values(by="percent_of_vote_2019", ascending=False)





Puducherry14 = pd.DataFrame(parties_statewise14["Puducherry"]).sort_values(by="percent_of_vote", ascending=False)
Puducherry19 = pd.DataFrame(parties_statewise19["Puducherry"]).sort_values(by="percent_of_vote", ascending=False)
pd.merge(Puducherry19, Puducherry14, how="left", on=["party"], suffixes=('_2019', '_2014')).sort_values(by="percent_of_vote_2019", ascending=False)








two_major_party14 = df14[(df14["party"]=="BJP") | (df14["party"]=="INC")]
two_major_party14


two_major_party19 = df19[(df19["party"]=="BJP") | (df19["party"]=="INC")]
two_major_party19


two_major_party19 = two_major_party19.drop(["candidate", "sex", "age", "category", "party_symbol", "general_votes", "postal_votes"], axis=1)
two_major_party14 = two_major_party14.drop(["candidate", "sex", "age", "category", "party_symbol", "general_votes", "postal_votes"], axis=1)


two_major_party14


two_major_party19


merge_major_party = pd.merge(two_major_party19, two_major_party14, how="left", on=['state', 'pc_name', 'party'], suffixes=('_19', '_14'))
merge_major_party


merge_major_party["Gain"] = merge_major_party["total_votes_19"] - merge_major_party["total_votes_14"]
merge_major_party





merge_major_party[merge_major_party["party"]=="INC"].sort_values(by="Gain", ascending=False).head(5).pc_name





merge_major_party[merge_major_party["party"]=="BJP"].sort_values(by="Gain", ascending=False).head(5).pc_name








merge_major_party[merge_major_party["party"]=="INC"].sort_values(by="Gain", ascending=True).head(5).pc_name





merge_major_party[merge_major_party["party"]=="BJP"].sort_values(by="Gain", ascending=True).head(5).pc_name











df14[(df14["total_votes"]==df14[df14["party"]=="NOTA"]["total_votes"].max()) & (df14["party"]=="NOTA")]





df19[(df19["total_votes"]==df19[df19["party"]=="NOTA"]["total_votes"].max()) & (df19["party"]=="NOTA")]








df19.state.unique()


Arunachal_Pradesh19[(Arunachal_Pradesh19["percent_of_vote"]<10)].party


df19[(df19["state"]=="Arunachal Pradesh") & (df19["party"]=="AIFB") & (df19["winner_pc"]=="win")]





res = []
for party in Andhra_Pradesh19[(Andhra_Pradesh19["percent_of_vote"]<10)].party.unique():
    res += list(df19[(df19["state"]=="Andhra Pradesh") & (df19["party"]==party) & (df19["winner_pc"]=="win")].pc_name.unique())
print(res)





res = []
for party in Arunachal_Pradesh19[(Arunachal_Pradesh19["percent_of_vote"]<10)].party.unique():
    res += list(df19[(df19["state"]=="Arunachal Pradesh") & (df19["party"]==party) & (df19["winner_pc"]=="win")].pc_name.unique())
print(res)





res = []
for party in Assam19[(Assam19["percent_of_vote"]<10)].party.unique():
    res += list(df19[(df19["state"]=="Assam") & (df19["party"]==party) & (df19["winner_pc"]=="win")].pc_name.unique())
print(res)





res = []
for party in Bihar19[(Bihar19["percent_of_vote"]<10)].party.unique():
    res += list(df19[(df19["state"]=="Bihar") & (df19["party"]==party) & (df19["winner_pc"]=="win")].pc_name.unique())
print(res)





res = []
for party in Goa19[(Goa19["percent_of_vote"]<10)].party.unique():
    res += list(df19[(df19["state"]=="Goa") & (df19["party"]==party) & (df19["winner_pc"]=="win")].pc_name.unique())
print(res)





res = []
for party in Gujarat19[(Gujarat19["percent_of_vote"]<10)].party.unique():
    res += list(df19[(df19["state"]=="Gujarat") & (df19["party"]==party) & (df19["winner_pc"]=="win")].pc_name.unique())
print(res)





res = []
for party in Haryana19[(Haryana19["percent_of_vote"]<10)].party.unique():
    res += list(df19[(df19["state"]=="Haryana") & (df19["party"]==party) & (df19["winner_pc"]=="win")].pc_name.unique())
print(res)





res = []
for party in Himachal_Pradesh19[(Himachal_Pradesh19["percent_of_vote"]<10)].party.unique():
    res += list(df19[(df19["state"]=="Himachal Pradesh") & (df19["party"]==party) & (df19["winner_pc"]=="win")].pc_name.unique())
print(res)





res = []
for party in Jammu_Kashmir19[(Jammu_Kashmir19["percent_of_vote"]<10)].party.unique():
    res += list(df19[(df19["state"]=="Jammu & Kashmir") & (df19["party"]==party) & (df19["winner_pc"]=="win")].pc_name.unique())
print(res)





res = []
for party in Karnataka19[(Karnataka19["percent_of_vote"]<10)].party.unique():
    res += list(df19[(df19["state"]=="Karnataka") & (df19["party"]==party) & (df19["winner_pc"]=="win")].pc_name.unique())
print(res)





res = []
for party in Kerala19[(Kerala19["percent_of_vote"]<10)].party.unique():
    res += list(df19[(df19["state"]=="Kerala") & (df19["party"]==party) & (df19["winner_pc"]=="win")].pc_name.unique())
print(res)





res = []
for party in Madhya_Pradesh19[(Madhya_Pradesh19["percent_of_vote"]<10)].party.unique():
    res += list(df19[(df19["state"]=="Madhya Pradesh") & (df19["party"]==party) & (df19["winner_pc"]=="win")].pc_name.unique())
print(res)





res = []
for party in Maharashtra19[(Maharashtra19["percent_of_vote"]<10)].party.unique():
    res += list(df19[(df19["state"]=="Maharashtra") & (df19["party"]==party) & (df19["winner_pc"]=="win")].pc_name.unique())
print(res)





res = []
for party in Manipur19[(Manipur19["percent_of_vote"]<10)].party.unique():
    res += list(df19[(df19["state"]=="Manipur") & (df19["party"]==party) & (df19["winner_pc"]=="win")].pc_name.unique())
print(res)





res = []
for party in Meghalaya19[(Meghalaya19["percent_of_vote"]<10)].party.unique():
    res += list(df19[(df19["state"]=="Meghalaya") & (df19["party"]==party) & (df19["winner_pc"]=="win")].pc_name.unique())
print(res)





res = []
for party in Mizoram19[(Mizoram19["percent_of_vote"]<10)].party.unique():
    res += list(df19[(df19["state"]=="Mizoram") & (df19["party"]==party) & (df19["winner_pc"]=="win")].pc_name.unique())
print(res)





res = []
for party in Nagaland19[(Nagaland19["percent_of_vote"]<10)].party.unique():
    res += list(df19[(df19["state"]=="Nagaland") & (df19["party"]==party) & (df19["winner_pc"]=="win")].pc_name.unique())
print(res)





res = []
for party in Odisha19[(Odisha19["percent_of_vote"]<10)].party.unique():
    res += list(df19[(df19["state"]=="Odisha") & (df19["party"]==party) & (df19["winner_pc"]=="win")].pc_name.unique())
print(res)





res = []
for party in Punjab19[(Punjab19["percent_of_vote"]<10)].party.unique():
    res += list(df19[(df19["state"]=="Punjab") & (df19["party"]==party) & (df19["winner_pc"]=="win")].pc_name.unique())
print(res)





res = []
for party in Rajasthan19[(Rajasthan19["percent_of_vote"]<10)].party.unique():
    res += list(df19[(df19["state"]=="Rajasthan") & (df19["party"]==party) & (df19["winner_pc"]=="win")].pc_name.unique())
print(res)





res = []
for party in Sikkim19[(Sikkim19["percent_of_vote"]<10)].party.unique():
    res += list(df19[(df19["state"]=="Sikkim") & (df19["party"]==party) & (df19["winner_pc"]=="win")].pc_name.unique())
print(res)





res = []
for party in Tamil_Nadu19[(Tamil_Nadu19["percent_of_vote"]<10)].party.unique():
    res += list(df19[(df19["state"]=="Tamil Nadu") & (df19["party"]==party) & (df19["winner_pc"]=="win")].pc_name.unique())
print(res)





res = []
for party in Tripura19[(Tripura19["percent_of_vote"]<10)].party.unique():
    res += list(df19[(df19["state"]=="Tripura") & (df19["party"]==party) & (df19["winner_pc"]=="win")].pc_name.unique())
print(res)





res = []
for party in Uttar_Pradesh19[(Uttar_Pradesh19["percent_of_vote"]<10)].party.unique():
    res += list(df19[(df19["state"]=="Uttar Pradesh") & (df19["party"]==party) & (df19["winner_pc"]=="win")].pc_name.unique())
print(res)


Uttar_Pradesh19[(Uttar_Pradesh19["percent_of_vote"]<10)]





res = []
for party in West_Bengal19[(West_Bengal19["percent_of_vote"]<10)].party.unique():
    res += list(df19[(df19["state"]=="West Bengal") & (df19["party"]==party) & (df19["winner_pc"]=="win")].pc_name.unique())
print(res)





res = []
for party in Chhattisgarh19[(Chhattisgarh19["percent_of_vote"]<10)].party.unique():
    res += list(df19[(df19["state"]=="Chhattisgarh") & (df19["party"]==party) & (df19["winner_pc"]=="win")].pc_name.unique())
print(res)





res = []
for party in Jharkhand19[(Jharkhand19["percent_of_vote"]<10)].party.unique():
    res += list(df19[(df19["state"]=="Jharkhand") & (df19["party"]==party) & (df19["winner_pc"]=="win")].pc_name.unique())
print(res)





res = []
for party in Uttarakhand19[(Uttarakhand19["percent_of_vote"]<10)].party.unique():
    res += list(df19[(df19["state"]=="Uttarakhand") & (df19["party"]==party) & (df19["winner_pc"]=="win")].pc_name.unique())
print(res)





res = []
for party in Telangana19[(Telangana19["percent_of_vote"]<10)].party.unique():
    res += list(df19[(df19["state"]=="Telangana") & (df19["party"]==party) & (df19["winner_pc"]=="win")].pc_name.unique())
print(res)





res = []
for party in Andaman_Nicobar_Islands19[(Andaman_Nicobar_Islands19["percent_of_vote"]<10)].party.unique():
    res += list(df19[(df19["state"]=="Andaman & Nicobar Islands") & (df19["party"]==party) & (df19["winner_pc"]=="win")].pc_name.unique())
print(res)





res = []
for party in Chandigarh19[(Chandigarh19["percent_of_vote"]<10)].party.unique():
    res += list(df19[(df19["state"]=="Chandigarh") & (df19["party"]==party) & (df19["winner_pc"]=="win")].pc_name.unique())
print(res)





res = []
for party in Dadra_Nagar_Haveli19[(Dadra_Nagar_Haveli19["percent_of_vote"]<10)].party.unique():
    res += list(df19[(df19["state"]=="Dadra & Nagar Haveli") & (df19["party"]==party) & (df19["winner_pc"]=="win")].pc_name.unique())
print(res)





res = []
for party in Daman_Diu19[(Daman_Diu19["percent_of_vote"]<10)].party.unique():
    res += list(df19[(df19["state"]=="Daman & Diu") & (df19["party"]==party) & (df19["winner_pc"]=="win")].pc_name.unique())
print(res)





res = []
for party in NCT_OF_Delhi19[(NCT_OF_Delhi19["percent_of_vote"]<10)].party.unique():
    res += list(df19[(df19["state"]=="NCT OF Delhi") & (df19["party"]==party) & (df19["winner_pc"]=="win")].pc_name.unique())
print(res)





res = []
for party in Lakshadweep19[(Lakshadweep19["percent_of_vote"]<10)].party.unique():
    res += list(df19[(df19["state"]=="Lakshadweep") & (df19["party"]==party) & (df19["winner_pc"]=="win")].pc_name.unique())
print(res)





res = []
for party in Puducherry19[(Puducherry19["percent_of_vote"]<10)].party.unique():
    res += list(df19[(df19["state"]=="Puducherry") & (df19["party"]==party) & (df19["winner_pc"]=="win")].pc_name.unique())
print(res)



